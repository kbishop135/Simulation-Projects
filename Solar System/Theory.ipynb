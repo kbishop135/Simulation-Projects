{
 "cells": [
  {
   "cell_type": "markdown",
   "id": "61ec65b0",
   "metadata": {},
   "source": [
    "### Solar System Simulation"
   ]
  },
  {
   "cell_type": "markdown",
   "id": "6bb161f4",
   "metadata": {
    "vscode": {
     "languageId": "latex"
    }
   },
   "source": [
    "We start by considering a 2 body problem (e.g. Sun and Earth?), i.e consider the forces acting on a body due to the gravitational effects of the other. Let the two bodies be denoted by indices $i$ and $j$, we will have coupled differential equations governing the three dimensions of motion:"
   ]
  },
  {
   "cell_type": "markdown",
   "id": "6d812820",
   "metadata": {},
   "source": [
    "- General velocity:\n",
    "\n",
    "$$\\frac{dx_i}{dt} = v_{x,i}$$ \n",
    "$$\\frac{dy_i}{dt} = v_{y,i}$$\n",
    "$$\\frac{dz_i}{dt} = v_{z,i}$$\n",
    "\n",
    "Then we must consider the gravitational forces causing an acceleration on our body $i$, if we consider a Newtonian universe:\n",
    "\n",
    "$$ F_i = m_i a_i = \\frac{G m_j m_i \\hat{r}}{r^2}$$\n",
    "\n",
    "If we resolve this into the 3 spatial components and use Newton's First Law to equate to acceleration:\n",
    "\n",
    "$$\\frac{dv_{x,i}}{dt} = \\frac{G m_j (x_j - x_i)}{r^2}$$\n",
    "$$\\frac{dv_{y,i}}{dt} = \\frac{G m_j (y_j - y_i)}{r^2}$$\n",
    "$$\\frac{dv_{z,i}}{dt} = \\frac{G m_j (z_j - z_i)}{r^2}$$\n",
    "\n",
    "With $r = \\sqrt{(x_j - x_i)^2 + (y_j - y_i)^2 + (z_j - z_i)^2}$"
   ]
  },
  {
   "cell_type": "markdown",
   "id": "e3d21509",
   "metadata": {},
   "source": [
    "Now we have a set of coupled differential equations which we can solve numerically to calculate Earth's position as a function of time relative to the Sun. We will make use of the SciPy library, most notably the Solve_ivp function, which utilizes Runge-Kutta numerical methods subject to initial conditions."
   ]
  }
 ],
 "metadata": {
  "kernelspec": {
   "display_name": "python_test",
   "language": "python",
   "name": "python3"
  },
  "language_info": {
   "codemirror_mode": {
    "name": "ipython",
    "version": 3
   },
   "file_extension": ".py",
   "mimetype": "text/x-python",
   "name": "python",
   "nbconvert_exporter": "python",
   "pygments_lexer": "ipython3",
   "version": "3.13.4"
  }
 },
 "nbformat": 4,
 "nbformat_minor": 5
}
