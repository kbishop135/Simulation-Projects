{
 "cells": [
  {
   "cell_type": "markdown",
   "id": "61ec65b0",
   "metadata": {},
   "source": [
    "### Solar System Simulation"
   ]
  },
  {
   "cell_type": "markdown",
   "id": "6bb161f4",
   "metadata": {
    "vscode": {
     "languageId": "latex"
    }
   },
   "source": [
    "We start by considering a 2 body problem (e.g. Sun and Earth?)"
   ]
  }
 ],
 "metadata": {
  "kernelspec": {
   "display_name": "python_test",
   "language": "python",
   "name": "python3"
  },
  "language_info": {
   "codemirror_mode": {
    "name": "ipython",
    "version": 3
   },
   "file_extension": ".py",
   "mimetype": "text/x-python",
   "name": "python",
   "nbconvert_exporter": "python",
   "pygments_lexer": "ipython3",
   "version": "3.13.4"
  }
 },
 "nbformat": 4,
 "nbformat_minor": 5
}
