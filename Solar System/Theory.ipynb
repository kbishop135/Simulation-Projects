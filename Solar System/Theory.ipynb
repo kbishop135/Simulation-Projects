{
 "cells": [
  {
   "cell_type": "markdown",
   "id": "61ec65b0",
   "metadata": {},
   "source": [
    "### Solar System Simulation"
   ]
  },
  {
   "cell_type": "markdown",
   "id": "6bb161f4",
   "metadata": {
    "vscode": {
     "languageId": "latex"
    }
   },
   "source": [
    "We start by considering a 2 body problem (e.g. Sun and Earth?), i.e consider the forces acting on a body due to the gravitational effects of the other. Let the two bodies be denoted by indices $i$ and $j$, we will have coupled differential equations governing the three dimensions of motion:"
   ]
  },
  {
   "cell_type": "markdown",
   "id": "6d812820",
   "metadata": {},
   "source": [
    "- General velocity:\n",
    "\n",
    "$$\\frac{dx_i}{dt} = v_{x,i}$$ \n",
    "$$\\frac{dy_i}{dt} = v_{y,i}$$\n",
    "$$\\frac{dz_i}{dt} = v_{z,i}$$\n"
   ]
  }
 ],
 "metadata": {
  "kernelspec": {
   "display_name": "python_test",
   "language": "python",
   "name": "python3"
  },
  "language_info": {
   "codemirror_mode": {
    "name": "ipython",
    "version": 3
   },
   "file_extension": ".py",
   "mimetype": "text/x-python",
   "name": "python",
   "nbconvert_exporter": "python",
   "pygments_lexer": "ipython3",
   "version": "3.13.4"
  }
 },
 "nbformat": 4,
 "nbformat_minor": 5
}
